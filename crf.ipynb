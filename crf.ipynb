{
 "cells": [
  {
   "cell_type": "code",
   "execution_count": 1,
   "metadata": {},
   "outputs": [
    {
     "name": "stdout",
     "output_type": "stream",
     "text": [
      "Requirement already satisfied: transformers in c:\\users\\rohit\\anaconda3\\lib\\site-packages (2.1.1)\n",
      "Requirement already satisfied: conllu in c:\\users\\rohit\\anaconda3\\lib\\site-packages (4.5.3)\n",
      "Requirement already satisfied: datasets in c:\\users\\rohit\\anaconda3\\lib\\site-packages (2.14.6)\n",
      "Requirement already satisfied: numpy in c:\\users\\rohit\\anaconda3\\lib\\site-packages (from transformers) (1.24.3)\n",
      "Requirement already satisfied: boto3 in c:\\users\\rohit\\anaconda3\\lib\\site-packages (from transformers) (1.24.28)\n",
      "Requirement already satisfied: requests in c:\\users\\rohit\\anaconda3\\lib\\site-packages (from transformers) (2.31.0)\n",
      "Requirement already satisfied: tqdm in c:\\users\\rohit\\anaconda3\\lib\\site-packages (from transformers) (4.65.0)\n",
      "Requirement already satisfied: regex in c:\\users\\rohit\\anaconda3\\lib\\site-packages (from transformers) (2022.7.9)\n",
      "Requirement already satisfied: sentencepiece in c:\\users\\rohit\\anaconda3\\lib\\site-packages (from transformers) (0.1.99)\n",
      "Requirement already satisfied: sacremoses in c:\\users\\rohit\\anaconda3\\lib\\site-packages (from transformers) (0.0.43)\n",
      "Requirement already satisfied: pyarrow>=8.0.0 in c:\\users\\rohit\\anaconda3\\lib\\site-packages (from datasets) (11.0.0)\n",
      "Requirement already satisfied: dill<0.3.8,>=0.3.0 in c:\\users\\rohit\\anaconda3\\lib\\site-packages (from datasets) (0.3.7)\n",
      "Requirement already satisfied: pandas in c:\\users\\rohit\\anaconda3\\lib\\site-packages (from datasets) (1.5.3)\n",
      "Requirement already satisfied: xxhash in c:\\users\\rohit\\anaconda3\\lib\\site-packages (from datasets) (3.4.1)\n",
      "Requirement already satisfied: multiprocess in c:\\users\\rohit\\anaconda3\\lib\\site-packages (from datasets) (0.70.15)\n",
      "Requirement already satisfied: fsspec[http]<=2023.10.0,>=2023.1.0 in c:\\users\\rohit\\anaconda3\\lib\\site-packages (from datasets) (2023.3.0)\n",
      "Requirement already satisfied: aiohttp in c:\\users\\rohit\\anaconda3\\lib\\site-packages (from datasets) (3.8.3)\n",
      "Requirement already satisfied: huggingface-hub<1.0.0,>=0.14.0 in c:\\users\\rohit\\anaconda3\\lib\\site-packages (from datasets) (0.17.3)\n",
      "Requirement already satisfied: packaging in c:\\users\\rohit\\anaconda3\\lib\\site-packages (from datasets) (23.0)\n",
      "Requirement already satisfied: pyyaml>=5.1 in c:\\users\\rohit\\anaconda3\\lib\\site-packages (from datasets) (6.0)\n",
      "Requirement already satisfied: attrs>=17.3.0 in c:\\users\\rohit\\anaconda3\\lib\\site-packages (from aiohttp->datasets) (22.1.0)\n",
      "Requirement already satisfied: charset-normalizer<3.0,>=2.0 in c:\\users\\rohit\\anaconda3\\lib\\site-packages (from aiohttp->datasets) (2.0.4)\n",
      "Requirement already satisfied: multidict<7.0,>=4.5 in c:\\users\\rohit\\anaconda3\\lib\\site-packages (from aiohttp->datasets) (6.0.2)\n",
      "Requirement already satisfied: async-timeout<5.0,>=4.0.0a3 in c:\\users\\rohit\\anaconda3\\lib\\site-packages (from aiohttp->datasets) (4.0.2)\n",
      "Requirement already satisfied: yarl<2.0,>=1.0 in c:\\users\\rohit\\anaconda3\\lib\\site-packages (from aiohttp->datasets) (1.8.1)\n",
      "Requirement already satisfied: frozenlist>=1.1.1 in c:\\users\\rohit\\anaconda3\\lib\\site-packages (from aiohttp->datasets) (1.3.3)\n",
      "Requirement already satisfied: aiosignal>=1.1.2 in c:\\users\\rohit\\anaconda3\\lib\\site-packages (from aiohttp->datasets) (1.2.0)\n",
      "Requirement already satisfied: filelock in c:\\users\\rohit\\anaconda3\\lib\\site-packages (from huggingface-hub<1.0.0,>=0.14.0->datasets) (3.9.0)\n",
      "Requirement already satisfied: typing-extensions>=3.7.4.3 in c:\\users\\rohit\\anaconda3\\lib\\site-packages (from huggingface-hub<1.0.0,>=0.14.0->datasets) (4.7.1)\n",
      "Requirement already satisfied: idna<4,>=2.5 in c:\\users\\rohit\\anaconda3\\lib\\site-packages (from requests->transformers) (3.4)\n",
      "Requirement already satisfied: urllib3<3,>=1.21.1 in c:\\users\\rohit\\anaconda3\\lib\\site-packages (from requests->transformers) (1.26.16)\n",
      "Requirement already satisfied: certifi>=2017.4.17 in c:\\users\\rohit\\anaconda3\\lib\\site-packages (from requests->transformers) (2023.7.22)\n",
      "Requirement already satisfied: colorama in c:\\users\\rohit\\anaconda3\\lib\\site-packages (from tqdm->transformers) (0.4.6)\n",
      "Requirement already satisfied: botocore<1.28.0,>=1.27.28 in c:\\users\\rohit\\anaconda3\\lib\\site-packages (from boto3->transformers) (1.27.59)\n",
      "Requirement already satisfied: jmespath<2.0.0,>=0.7.1 in c:\\users\\rohit\\anaconda3\\lib\\site-packages (from boto3->transformers) (0.10.0)\n",
      "Requirement already satisfied: s3transfer<0.7.0,>=0.6.0 in c:\\users\\rohit\\anaconda3\\lib\\site-packages (from boto3->transformers) (0.6.0)\n",
      "Requirement already satisfied: python-dateutil>=2.8.1 in c:\\users\\rohit\\anaconda3\\lib\\site-packages (from pandas->datasets) (2.8.2)\n",
      "Requirement already satisfied: pytz>=2020.1 in c:\\users\\rohit\\anaconda3\\lib\\site-packages (from pandas->datasets) (2022.7)\n",
      "Requirement already satisfied: six in c:\\users\\rohit\\anaconda3\\lib\\site-packages (from sacremoses->transformers) (1.16.0)\n",
      "Requirement already satisfied: click in c:\\users\\rohit\\anaconda3\\lib\\site-packages (from sacremoses->transformers) (8.0.4)\n",
      "Requirement already satisfied: joblib in c:\\users\\rohit\\anaconda3\\lib\\site-packages (from sacremoses->transformers) (1.2.0)\n"
     ]
    }
   ],
   "source": [
    "!pip install transformers conllu datasets"
   ]
  },
  {
   "cell_type": "code",
   "execution_count": 2,
   "metadata": {},
   "outputs": [],
   "source": [
    "from datasets import load_dataset , get_dataset_config_names"
   ]
  },
  {
   "cell_type": "code",
   "execution_count": 3,
   "metadata": {},
   "outputs": [],
   "source": [
    "# Fetching en_ewts train, validation splits\n",
    "train_dataset = load_dataset('universal_dependencies', 'en_ewt', split = 'train')\n",
    "validation_dataset = load_dataset('universal_dependencies', 'en_ewt', split = 'validation')"
   ]
  },
  {
   "cell_type": "code",
   "execution_count": 4,
   "metadata": {},
   "outputs": [
    {
     "data": {
      "text/plain": [
       "{'$',\n",
       " \"''\",\n",
       " ',',\n",
       " '-LRB-',\n",
       " '-RRB-',\n",
       " '.',\n",
       " ':',\n",
       " 'ADD',\n",
       " 'AFX',\n",
       " 'CC',\n",
       " 'CD',\n",
       " 'DT',\n",
       " 'EX',\n",
       " 'FW',\n",
       " 'GW',\n",
       " 'HYPH',\n",
       " 'IN',\n",
       " 'JJ',\n",
       " 'JJR',\n",
       " 'JJS',\n",
       " 'LS',\n",
       " 'MD',\n",
       " 'NFP',\n",
       " 'NN',\n",
       " 'NNP',\n",
       " 'NNPS',\n",
       " 'NNS',\n",
       " None,\n",
       " 'PDT',\n",
       " 'POS',\n",
       " 'PRP',\n",
       " 'PRP$',\n",
       " 'RB',\n",
       " 'RBR',\n",
       " 'RBS',\n",
       " 'RP',\n",
       " 'SYM',\n",
       " 'TO',\n",
       " 'UH',\n",
       " 'VB',\n",
       " 'VBD',\n",
       " 'VBG',\n",
       " 'VBN',\n",
       " 'VBP',\n",
       " 'VBZ',\n",
       " 'WDT',\n",
       " 'WP',\n",
       " 'WP$',\n",
       " 'WRB',\n",
       " 'XX',\n",
       " '``'}"
      ]
     },
     "execution_count": 4,
     "metadata": {},
     "output_type": "execute_result"
    }
   ],
   "source": [
    "# Find total pos\n",
    "\n",
    "total_pos = set()\n",
    "total_sentences = train_dataset.num_rows\n",
    "\n",
    "for i in range(0,total_sentences):\n",
    "  for pos in train_dataset[i]['xpos']:\n",
    "    total_pos.add(pos)\n",
    "\n",
    "total_pos"
   ]
  },
  {
   "cell_type": "markdown",
   "metadata": {},
   "source": [
    "Preprocessing data\n",
    "\n",
    "UD dataset has arond 50 xpos.For the sake of simplicity I am prepocessing data to have only 6 labels.\n",
    "\n",
    "1. NOUN - NN\n",
    "2. ADJECTIVE - JJ\n",
    "3. VERB - VB\n",
    "4. INTERJECTION - IN\n",
    "5. ADVERB - ADV\n",
    "6. OTHERS - OTHERS"
   ]
  },
  {
   "cell_type": "code",
   "execution_count": 5,
   "metadata": {},
   "outputs": [],
   "source": [
    "total_sentences = train_dataset.num_rows\n",
    "train_X = [row['tokens'] for row in train_dataset]\n",
    "train_Y = [row['xpos'] for row in train_dataset]\n",
    "\n",
    "def preprocess(train_Y):\n",
    "  for i in range(0,len(train_Y)):\n",
    "    for j in range(0, len(train_Y[i])):\n",
    "      pos = train_Y[i][j]\n",
    "      if(pos in ['NN', 'NNP', 'NNS']):\n",
    "        pos = 'NN'\n",
    "      elif(pos in ['VB', 'VBD', 'VBG']):\n",
    "        pos = 'VB'\n",
    "      elif(pos != 'JJ' and pos != 'IN' and pos != 'RB'):\n",
    "        pos = 'OTHERS'\n",
    "      train_Y[i][j] = pos\n",
    "  return train_Y\n",
    "  \n",
    "train_Y = preprocess(train_Y)"
   ]
  },
  {
   "cell_type": "code",
   "execution_count": 6,
   "metadata": {},
   "outputs": [
    {
     "data": {
      "text/plain": [
       "['IN', 'JJ', 'NN', 'OTHERS', 'RB', 'VB']"
      ]
     },
     "execution_count": 6,
     "metadata": {},
     "output_type": "execute_result"
    }
   ],
   "source": [
    "# Find total pos\n",
    "\n",
    "total_pos = set()\n",
    "total_sentences = train_dataset.num_rows\n",
    "\n",
    "for i in range(0,total_sentences):\n",
    "  for pos in train_Y[i]:\n",
    "    total_pos.add(pos)\n",
    "\n",
    "total_pos= sorted(total_pos)\n",
    "total_pos"
   ]
  },
  {
   "cell_type": "markdown",
   "metadata": {},
   "source": [
    "Featuraization\n",
    "\n",
    "We define some static features to convert the input token as a feature\n",
    "1. If the given token is a 'NOUN' then the corresponding feature is true else false {0, 1}\n",
    "2. Similarly for other pos tags - 4 others\n",
    "3. Transition features : 1 if given token is a NOUN and previous token is VERB.\n",
    "4. Similarly for other combinations - 24 others\n"
   ]
  },
  {
   "cell_type": "code",
   "execution_count": 7,
   "metadata": {},
   "outputs": [],
   "source": [
    "def featurize_word(word, pos, prev_pos):\n",
    "  feature = [0 for i in range(42)]\n",
    "\n",
    "  for i in range(0, len(total_pos)):\n",
    "    if(pos == total_pos[i]):\n",
    "      feature[i]=1\n",
    "\n",
    "  # transition features\n",
    "  for i in range(0,len(total_pos)):\n",
    "    for j in range(0,len(total_pos)):\n",
    "      if(total_pos[i] == pos and total_pos[j] == prev_pos):\n",
    "        feature[len(total_pos)-1+(i+1)*(j+1)] = 1\n",
    "\n",
    "  return feature\n",
    "\n",
    "def featurize_sentence(sentence,pos):\n",
    "  # Sentence is a list of tokens\n",
    "  sentence_feature = []\n",
    "  for i in range(0,len(sentence)):\n",
    "    if(i == 0):\n",
    "      sentence_feature.append(featurize_word(sentence[i],pos[i],'OTHER'))\n",
    "    else:\n",
    "      sentence_feature.append(featurize_word(sentence[i],pos[i],pos[i-1]))\n",
    "  return sentence_feature\n",
    "\n",
    "def featurize_dataset(train_X, train_Y):\n",
    "  dataset_features = []\n",
    "  for i in range(0, len(train_X)):\n",
    "    dataset_features.append(featurize_sentence(train_X[i], train_Y[i]))\n",
    "  return dataset_features"
   ]
  },
  {
   "cell_type": "code",
   "execution_count": 8,
   "metadata": {},
   "outputs": [
    {
     "data": {
      "text/plain": [
       "12543"
      ]
     },
     "execution_count": 8,
     "metadata": {},
     "output_type": "execute_result"
    }
   ],
   "source": [
    "features = featurize_dataset(train_X, train_Y)\n",
    "\n",
    "len(features)"
   ]
  },
  {
   "cell_type": "markdown",
   "metadata": {},
   "source": [
    "Baseline model - Most frequent baseline\n",
    "\n",
    "The baseline model is defined as follows:\n",
    "1. If the word appeared previously in test dataset , assign the the most frequent label for that word in test dataset\n",
    "2. For new word assign the overall most frequent label"
   ]
  },
  {
   "cell_type": "code",
   "execution_count": 9,
   "metadata": {},
   "outputs": [
    {
     "name": "stdout",
     "output_type": "stream",
     "text": [
      "labels in the order of frequencies : ['OTHERS', 'NN', 'IN', 'VB', 'JJ', 'RB']\n"
     ]
    },
    {
     "data": {
      "text/plain": [
       "'OTHERS'"
      ]
     },
     "execution_count": 9,
     "metadata": {},
     "output_type": "execute_result"
    }
   ],
   "source": [
    "from collections import defaultdict\n",
    "\n",
    "# Overall most frequent label\n",
    "def overall_most_frequent_label(train_Y):\n",
    "  freq_dict = defaultdict(int)\n",
    "  for i in range(0, len(train_Y)):\n",
    "    for j in range(0, len(train_Y[i])):\n",
    "      freq_dict[train_Y[i][j]]+=1\n",
    "  frequency_sorted_list = sorted(freq_dict, key= lambda l: (-freq_dict[l], l))\n",
    "  print(f'labels in the order of frequencies : {frequency_sorted_list}')\n",
    "  return frequency_sorted_list[0]\n",
    "\n",
    "overall_most_frequent_label(train_Y)\n"
   ]
  },
  {
   "cell_type": "code",
   "execution_count": 10,
   "metadata": {},
   "outputs": [
    {
     "name": "stdout",
     "output_type": "stream",
     "text": [
      "20132\n"
     ]
    }
   ],
   "source": [
    "from collections import Counter\n",
    "\n",
    "# token wise most frequent label\n",
    "def tokenwise_most_frequent_label(train_X, train_Y):\n",
    "  freq_dict = defaultdict(list)\n",
    "  for i in range(0, len(train_X)):\n",
    "    for j in range(0, len(train_X[i])):\n",
    "      freq_dict[train_X[i][j]].append(train_Y[i][j])\n",
    "  tokenwise_frequent_label = defaultdict(int)\n",
    "  for key, values in freq_dict.items():\n",
    "    most_frequent_label = Counter(values).most_common(1)[0][0]\n",
    "    tokenwise_frequent_label[key] = most_frequent_label\n",
    "  return tokenwise_frequent_label\n",
    " \n",
    "\n",
    "tokenwise_frequent_labels = tokenwise_most_frequent_label(train_X, train_Y)\n",
    "print(len(tokenwise_frequent_labels))"
   ]
  },
  {
   "cell_type": "code",
   "execution_count": 11,
   "metadata": {},
   "outputs": [],
   "source": [
    "class BaseModel():\n",
    "    def __init__(self, overall_most_frequent_label, tokenwise_most_frequent_label):\n",
    "      self.find_overall_most_frequent_label = overall_most_frequent_label\n",
    "      self.find_tokenwise_most_frequent_label = tokenwise_most_frequent_label\n",
    "\n",
    "    def predict(self, input):\n",
    "      # input is a sentence -- a list of words/tokens\n",
    "      output = []\n",
    "      for word in input:\n",
    "        if(word in self.tokenwise_most_frequent_label.keys()):\n",
    "          output.append(self.tokenwise_most_frequent_label[word])\n",
    "        else:\n",
    "          output.append(self.overall_most_frequent_label)\n",
    "      return output\n",
    "\n",
    "    def train(self, train_X, train_Y):\n",
    "      self.overall_most_frequent_label = self.find_overall_most_frequent_label(train_Y)\n",
    "      self.tokenwise_most_frequent_label = self.find_tokenwise_most_frequent_label(train_X, train_Y)"
   ]
  },
  {
   "cell_type": "markdown",
   "metadata": {},
   "source": [
    "Evaluation metrics\n",
    "\n",
    "For this I have appended the ground truths for each sentencese into a list. Same for predicted outputs.\n",
    "Them calculate performance metrics on them."
   ]
  },
  {
   "cell_type": "code",
   "execution_count": 12,
   "metadata": {},
   "outputs": [],
   "source": [
    "from sklearn import metrics\n",
    "\n",
    "\n",
    "def evaluate_metrics(predicted_labels, ground_truth):\n",
    "  # accuracy\n",
    "  accuracy = metrics.accuracy_score(ground_truth, predicted_labels)\n",
    "  print(f'accuracy : {accuracy}')\n",
    "\n",
    "  # macroprecision\n",
    "  macro_precision = metrics.precision_score(ground_truth, predicted_labels, average = 'macro')\n",
    "  print(f'macro precision : {macro_precision}')\n",
    "\n",
    "  # macrorecall\n",
    "  macro_recall = metrics.recall_score(ground_truth, predicted_labels, average = 'macro')\n",
    "  print(f'macro recall : {macro_recall}')\n",
    "\n",
    "  # microprecision\n",
    "  micro_precision  = metrics.precision_score(ground_truth, predicted_labels, average = 'micro')\n",
    "  print(f'micro precision : {micro_precision}')\n",
    "\n",
    "  # microrecall.\n",
    "  micro_recall  = metrics.recall_score(ground_truth, predicted_labels, average = 'micro')\n",
    "  print(f'micro recall : {micro_recall}')"
   ]
  },
  {
   "cell_type": "code",
   "execution_count": 13,
   "metadata": {},
   "outputs": [
    {
     "name": "stdout",
     "output_type": "stream",
     "text": [
      "labels in the order of frequencies : ['OTHERS', 'NN', 'IN', 'VB', 'JJ', 'RB']\n"
     ]
    }
   ],
   "source": [
    "base_model = BaseModel(overall_most_frequent_label, tokenwise_most_frequent_label)\n",
    "base_model.train(train_X, train_Y)\n",
    "\n",
    "total_sentences = validation_dataset.num_rows\n",
    "validation_X = [row['tokens'] for row in validation_dataset]\n",
    "validation_Y = [row['xpos'] for row in validation_dataset]\n",
    "validation_Y = preprocess(validation_Y)\n",
    "\n",
    "prediction_Y = []\n",
    "for i in range(0, len(validation_X)):\n",
    "  prediction_Y.append(base_model.predict(validation_X[i]))"
   ]
  },
  {
   "cell_type": "code",
   "execution_count": 14,
   "metadata": {},
   "outputs": [
    {
     "data": {
      "text/plain": [
       "['IN', 'OTHERS', 'NN', 'OTHERS', 'OTHERS', 'NN', 'OTHERS']"
      ]
     },
     "execution_count": 14,
     "metadata": {},
     "output_type": "execute_result"
    }
   ],
   "source": [
    "validation_Y[0]"
   ]
  },
  {
   "cell_type": "code",
   "execution_count": 15,
   "metadata": {},
   "outputs": [
    {
     "data": {
      "text/plain": [
       "['IN', 'OTHERS', 'NN', 'OTHERS', 'OTHERS', 'NN', 'OTHERS']"
      ]
     },
     "execution_count": 15,
     "metadata": {},
     "output_type": "execute_result"
    }
   ],
   "source": [
    "prediction_Y[0]"
   ]
  },
  {
   "cell_type": "code",
   "execution_count": 16,
   "metadata": {},
   "outputs": [
    {
     "name": "stdout",
     "output_type": "stream",
     "text": [
      "accuracy : 0.8603893555224115\n",
      "macro precision : 0.8775669633288364\n",
      "macro recall : 0.817050865808997\n",
      "micro precision : 0.8603893555224115\n",
      "micro recall : 0.8603893555224115\n"
     ]
    }
   ],
   "source": [
    "appended_prediction_labels = []\n",
    "for p in prediction_Y:\n",
    "  appended_prediction_labels+=p\n",
    "appended_ground_truth = []\n",
    "for g in validation_Y:\n",
    "  appended_ground_truth+=g\n",
    "evaluate_metrics(appended_prediction_labels, appended_ground_truth)"
   ]
  },
  {
   "cell_type": "code",
   "execution_count": null,
   "metadata": {},
   "outputs": [],
   "source": []
  },
  {
   "cell_type": "code",
   "execution_count": null,
   "metadata": {},
   "outputs": [],
   "source": [
    "import torch\n",
    "import torch.nn as nn\n",
    "\n",
    "class LinearChainCRF(nn.Module):\n",
    "    def __init__(self, num_tags, num_features):\n",
    "        super().__init__()\n",
    "        # Initialize weights\n",
    "        self.num_tags = num_tags\n",
    "        self.feature_weights = nn.Parameter(torch.randn(1, num_features))\n",
    "\n",
    "    def _forward_alg(self, features):\n",
    "        # Forward algorithm for computing the partition function (Z score)\n",
    "        # TODO: implement this\n",
    "        pass\n",
    "\n",
    "    def _score_sequence(self, features, tags):\n",
    "        # Calculate the score of a given sequence\n",
    "        score = torch.zeros(1)\n",
    "        for feature in features:\n",
    "            score += torch.dot(feature, self.feature_weights)\n",
    "        return score\n",
    "\n",
    "    def neg_log_likelihood_loss(self, features, tags):\n",
    "        # Negative log likelihood loss\n",
    "        # Z score - numerator\n",
    "        pass\n",
    "\n",
    "    def _viterbi_decode(self, features):\n",
    "        # TODO: implement this\n",
    "        pass\n",
    "\n",
    "    def forward(self, features):\n",
    "        # TODO: implement this \n",
    "        pass\n"
   ]
  }
 ],
 "metadata": {
  "kernelspec": {
   "display_name": "base",
   "language": "python",
   "name": "python3"
  },
  "language_info": {
   "codemirror_mode": {
    "name": "ipython",
    "version": 3
   },
   "file_extension": ".py",
   "mimetype": "text/x-python",
   "name": "python",
   "nbconvert_exporter": "python",
   "pygments_lexer": "ipython3",
   "version": "3.11.4"
  }
 },
 "nbformat": 4,
 "nbformat_minor": 2
}
