{
 "cells": [
  {
   "cell_type": "code",
   "execution_count": 1,
   "metadata": {},
   "outputs": [
    {
     "name": "stdout",
     "output_type": "stream",
     "text": [
      "Requirement already satisfied: transformers in c:\\users\\rohit\\anaconda3\\lib\\site-packages (2.1.1)\n",
      "Requirement already satisfied: conllu in c:\\users\\rohit\\anaconda3\\lib\\site-packages (4.5.3)\n",
      "Requirement already satisfied: datasets in c:\\users\\rohit\\anaconda3\\lib\\site-packages (2.14.6)\n",
      "Requirement already satisfied: numpy in c:\\users\\rohit\\anaconda3\\lib\\site-packages (from transformers) (1.24.3)\n",
      "Requirement already satisfied: boto3 in c:\\users\\rohit\\anaconda3\\lib\\site-packages (from transformers) (1.24.28)\n",
      "Requirement already satisfied: requests in c:\\users\\rohit\\anaconda3\\lib\\site-packages (from transformers) (2.31.0)\n",
      "Requirement already satisfied: tqdm in c:\\users\\rohit\\anaconda3\\lib\\site-packages (from transformers) (4.65.0)\n",
      "Requirement already satisfied: regex in c:\\users\\rohit\\anaconda3\\lib\\site-packages (from transformers) (2022.7.9)\n",
      "Requirement already satisfied: sentencepiece in c:\\users\\rohit\\anaconda3\\lib\\site-packages (from transformers) (0.1.99)\n",
      "Requirement already satisfied: sacremoses in c:\\users\\rohit\\anaconda3\\lib\\site-packages (from transformers) (0.0.43)\n",
      "Requirement already satisfied: pyarrow>=8.0.0 in c:\\users\\rohit\\anaconda3\\lib\\site-packages (from datasets) (11.0.0)\n",
      "Requirement already satisfied: dill<0.3.8,>=0.3.0 in c:\\users\\rohit\\anaconda3\\lib\\site-packages (from datasets) (0.3.7)\n",
      "Requirement already satisfied: pandas in c:\\users\\rohit\\anaconda3\\lib\\site-packages (from datasets) (1.5.3)\n",
      "Requirement already satisfied: xxhash in c:\\users\\rohit\\anaconda3\\lib\\site-packages (from datasets) (3.4.1)\n",
      "Requirement already satisfied: multiprocess in c:\\users\\rohit\\anaconda3\\lib\\site-packages (from datasets) (0.70.15)\n",
      "Requirement already satisfied: fsspec[http]<=2023.10.0,>=2023.1.0 in c:\\users\\rohit\\anaconda3\\lib\\site-packages (from datasets) (2023.3.0)\n",
      "Requirement already satisfied: aiohttp in c:\\users\\rohit\\anaconda3\\lib\\site-packages (from datasets) (3.8.3)\n",
      "Requirement already satisfied: huggingface-hub<1.0.0,>=0.14.0 in c:\\users\\rohit\\anaconda3\\lib\\site-packages (from datasets) (0.17.3)\n",
      "Requirement already satisfied: packaging in c:\\users\\rohit\\anaconda3\\lib\\site-packages (from datasets) (23.0)\n",
      "Requirement already satisfied: pyyaml>=5.1 in c:\\users\\rohit\\anaconda3\\lib\\site-packages (from datasets) (6.0)\n",
      "Requirement already satisfied: attrs>=17.3.0 in c:\\users\\rohit\\anaconda3\\lib\\site-packages (from aiohttp->datasets) (22.1.0)\n",
      "Requirement already satisfied: charset-normalizer<3.0,>=2.0 in c:\\users\\rohit\\anaconda3\\lib\\site-packages (from aiohttp->datasets) (2.0.4)\n",
      "Requirement already satisfied: multidict<7.0,>=4.5 in c:\\users\\rohit\\anaconda3\\lib\\site-packages (from aiohttp->datasets) (6.0.2)\n",
      "Requirement already satisfied: async-timeout<5.0,>=4.0.0a3 in c:\\users\\rohit\\anaconda3\\lib\\site-packages (from aiohttp->datasets) (4.0.2)\n",
      "Requirement already satisfied: yarl<2.0,>=1.0 in c:\\users\\rohit\\anaconda3\\lib\\site-packages (from aiohttp->datasets) (1.8.1)\n",
      "Requirement already satisfied: frozenlist>=1.1.1 in c:\\users\\rohit\\anaconda3\\lib\\site-packages (from aiohttp->datasets) (1.3.3)\n",
      "Requirement already satisfied: aiosignal>=1.1.2 in c:\\users\\rohit\\anaconda3\\lib\\site-packages (from aiohttp->datasets) (1.2.0)\n",
      "Requirement already satisfied: filelock in c:\\users\\rohit\\anaconda3\\lib\\site-packages (from huggingface-hub<1.0.0,>=0.14.0->datasets) (3.9.0)\n",
      "Requirement already satisfied: typing-extensions>=3.7.4.3 in c:\\users\\rohit\\anaconda3\\lib\\site-packages (from huggingface-hub<1.0.0,>=0.14.0->datasets) (4.7.1)\n",
      "Requirement already satisfied: idna<4,>=2.5 in c:\\users\\rohit\\anaconda3\\lib\\site-packages (from requests->transformers) (3.4)\n",
      "Requirement already satisfied: urllib3<3,>=1.21.1 in c:\\users\\rohit\\anaconda3\\lib\\site-packages (from requests->transformers) (1.26.16)\n",
      "Requirement already satisfied: certifi>=2017.4.17 in c:\\users\\rohit\\anaconda3\\lib\\site-packages (from requests->transformers) (2023.7.22)\n",
      "Requirement already satisfied: colorama in c:\\users\\rohit\\anaconda3\\lib\\site-packages (from tqdm->transformers) (0.4.6)\n",
      "Requirement already satisfied: botocore<1.28.0,>=1.27.28 in c:\\users\\rohit\\anaconda3\\lib\\site-packages (from boto3->transformers) (1.27.59)\n",
      "Requirement already satisfied: jmespath<2.0.0,>=0.7.1 in c:\\users\\rohit\\anaconda3\\lib\\site-packages (from boto3->transformers) (0.10.0)\n",
      "Requirement already satisfied: s3transfer<0.7.0,>=0.6.0 in c:\\users\\rohit\\anaconda3\\lib\\site-packages (from boto3->transformers) (0.6.0)\n",
      "Requirement already satisfied: python-dateutil>=2.8.1 in c:\\users\\rohit\\anaconda3\\lib\\site-packages (from pandas->datasets) (2.8.2)\n",
      "Requirement already satisfied: pytz>=2020.1 in c:\\users\\rohit\\anaconda3\\lib\\site-packages (from pandas->datasets) (2022.7)\n",
      "Requirement already satisfied: six in c:\\users\\rohit\\anaconda3\\lib\\site-packages (from sacremoses->transformers) (1.16.0)\n",
      "Requirement already satisfied: click in c:\\users\\rohit\\anaconda3\\lib\\site-packages (from sacremoses->transformers) (8.0.4)\n",
      "Requirement already satisfied: joblib in c:\\users\\rohit\\anaconda3\\lib\\site-packages (from sacremoses->transformers) (1.2.0)\n"
     ]
    }
   ],
   "source": [
    "!pip install transformers conllu datasets"
   ]
  },
  {
   "cell_type": "code",
   "execution_count": 2,
   "metadata": {},
   "outputs": [],
   "source": [
    "from datasets import load_dataset , get_dataset_config_names\n",
    "import torch\n",
    "import torch.nn as nn\n",
    "import torch.optim as optim"
   ]
  },
  {
   "cell_type": "code",
   "execution_count": 3,
   "metadata": {},
   "outputs": [],
   "source": [
    "# Fetching en_ewts train, validation, test splits\n",
    "train_dataset = load_dataset('universal_dependencies', 'en_ewt', split = 'train')\n",
    "validation_dataset = load_dataset('universal_dependencies', 'en_ewt', split = 'validation')\n",
    "test_dataset = load_dataset('universal_dependencies', 'en_ewt', split = 'test')"
   ]
  },
  {
   "cell_type": "code",
   "execution_count": 6,
   "metadata": {},
   "outputs": [
    {
     "data": {
      "text/plain": [
       "{'$',\n",
       " \"''\",\n",
       " ',',\n",
       " '-LRB-',\n",
       " '-RRB-',\n",
       " '.',\n",
       " ':',\n",
       " 'ADD',\n",
       " 'AFX',\n",
       " 'CC',\n",
       " 'CD',\n",
       " 'DT',\n",
       " 'EX',\n",
       " 'FW',\n",
       " 'GW',\n",
       " 'HYPH',\n",
       " 'IN',\n",
       " 'JJ',\n",
       " 'JJR',\n",
       " 'JJS',\n",
       " 'LS',\n",
       " 'MD',\n",
       " 'NFP',\n",
       " 'NN',\n",
       " 'NNP',\n",
       " 'NNPS',\n",
       " 'NNS',\n",
       " None,\n",
       " 'PDT',\n",
       " 'POS',\n",
       " 'PRP',\n",
       " 'PRP$',\n",
       " 'RB',\n",
       " 'RBR',\n",
       " 'RBS',\n",
       " 'RP',\n",
       " 'SYM',\n",
       " 'TO',\n",
       " 'UH',\n",
       " 'VB',\n",
       " 'VBD',\n",
       " 'VBG',\n",
       " 'VBN',\n",
       " 'VBP',\n",
       " 'VBZ',\n",
       " 'WDT',\n",
       " 'WP',\n",
       " 'WP$',\n",
       " 'WRB',\n",
       " 'XX',\n",
       " '``'}"
      ]
     },
     "execution_count": 6,
     "metadata": {},
     "output_type": "execute_result"
    }
   ],
   "source": [
    "# Find total pos\n",
    "\n",
    "total_pos = set()\n",
    "total_sentences = train_dataset.num_rows\n",
    "\n",
    "for i in range(0,total_sentences):\n",
    "  for pos in train_dataset[i]['xpos']:\n",
    "    total_pos.add(pos)\n",
    "\n",
    "total_pos"
   ]
  },
  {
   "cell_type": "markdown",
   "metadata": {},
   "source": [
    "Preprocessing data\n",
    "\n",
    "UD dataset has arond 50 xpos.For the sake of simplicity I am prepocessing data to have only 6 labels.\n",
    "\n",
    "1. NOUN - NN\n",
    "2. ADJECTIVE - JJ\n",
    "3. VERB - VB\n",
    "4. INTERJECTION - IN\n",
    "5. ADVERB - ADV\n",
    "6. OTHERS - OTHERS"
   ]
  },
  {
   "cell_type": "code",
   "execution_count": 7,
   "metadata": {},
   "outputs": [],
   "source": [
    "total_sentences = train_dataset.num_rows\n",
    "train_X = [row['tokens'] for row in train_dataset]\n",
    "train_Y = [row['xpos'] for row in train_dataset]\n",
    "\n",
    "def preprocess(train_Y):\n",
    "  for i in range(0,len(train_Y)):\n",
    "    for j in range(0, len(train_Y[i])):\n",
    "      pos = train_Y[i][j]\n",
    "      if(pos in ['NN', 'NNP', 'NNS']):\n",
    "        pos = 'NN'\n",
    "      elif(pos in ['VB', 'VBD', 'VBG']):\n",
    "        pos = 'VB'\n",
    "      elif(pos != 'JJ' and pos != 'IN' and pos != 'RB'):\n",
    "        pos = 'OTHERS'\n",
    "      train_Y[i][j] = pos\n",
    "  return train_Y\n",
    "  \n",
    "train_Y = preprocess(train_Y)"
   ]
  },
  {
   "cell_type": "code",
   "execution_count": 8,
   "metadata": {},
   "outputs": [
    {
     "name": "stdout",
     "output_type": "stream",
     "text": [
      "['IN', 'JJ', 'NN', 'OTHERS', 'RB', 'VB']\n",
      "defaultdict(None, {'IN': 0, 'JJ': 1, 'NN': 2, 'OTHERS': 3, 'RB': 4, 'VB': 5})\n"
     ]
    }
   ],
   "source": [
    "# Find total pos\n",
    "from collections import defaultdict\n",
    "\n",
    "total_pos = set()\n",
    "total_sentences = train_dataset.num_rows\n",
    "\n",
    "for i in range(0,total_sentences):\n",
    "  for pos in train_Y[i]:\n",
    "    total_pos.add(pos)\n",
    "\n",
    "total_pos= sorted(total_pos)\n",
    "print(total_pos)\n",
    "\n",
    "pos_index = defaultdict()\n",
    "for i in range(len(total_pos)):\n",
    "  pos_index [total_pos[i]] = i\n",
    "\n",
    "print(pos_index)"
   ]
  },
  {
   "cell_type": "markdown",
   "metadata": {},
   "source": [
    "Featuraization\n",
    "\n",
    "We define some static features to convert the input token as a feature\n",
    "1. If the given token is a 'NOUN' then the corresponding feature is true else false {0, 1}\n",
    "2. Similarly for other pos tags - 4 others\n",
    "3. Transition features : 1 if given token is a NOUN and previous token is VERB.\n",
    "4. Similarly for other combinations - 24 others\n"
   ]
  },
  {
   "cell_type": "code",
   "execution_count": 9,
   "metadata": {},
   "outputs": [],
   "source": [
    "def featurize_word(word, pos, prev_pos):\n",
    "  feature = [0 for i in range(42)]\n",
    "\n",
    "  for i in range(0, len(total_pos)):\n",
    "    if(pos == total_pos[i]):\n",
    "      feature[i]=1\n",
    "\n",
    "  # transition features\n",
    "  for i in range(0,len(total_pos)):\n",
    "    for j in range(0,len(total_pos)):\n",
    "      if(total_pos[i] == pos and total_pos[j] == prev_pos):\n",
    "        feature[len(total_pos)-1+(i+1)*(j+1)] = 1\n",
    "\n",
    "  return feature\n",
    "\n",
    "def featurize_sentence(sentence,pos):\n",
    "  # Sentence is a list of tokens\n",
    "  sentence_feature = [];\n",
    "  for i in range(0,len(sentence)):\n",
    "    if(i == 0):\n",
    "      sentence_feature.append(featurize_word(sentence[i],pos[i],'OTHER'))\n",
    "    else:\n",
    "      sentence_feature.append(featurize_word(sentence[i],pos[i],pos[i-1]))\n",
    "  return sentence_feature\n",
    "\n",
    "def featurize_dataset(train_X, train_Y):\n",
    "  dataset_features = [];\n",
    "  for i in range(0, len(train_X)):\n",
    "    dataset_features.append(featurize_sentence(train_X[i], train_Y[i]))\n",
    "  return dataset_features\n",
    "\n",
    "def index_labels(train_Y):\n",
    "  # converting the string labels to numbers / indices\n",
    "  indexed_labels = []\n",
    "  for i in range(len(train_Y)):\n",
    "    indexed_labels.append([pos_index[label] for label in train_Y[i]])\n",
    "  return indexed_labels"
   ]
  },
  {
   "cell_type": "code",
   "execution_count": 10,
   "metadata": {},
   "outputs": [],
   "source": [
    "featurized_train_X = featurize_dataset(train_X, train_Y)\n",
    "indexed_train_Y = index_labels(train_Y)"
   ]
  },
  {
   "cell_type": "markdown",
   "metadata": {},
   "source": [
    "Baseline model - Most frequent baseline\n",
    "\n",
    "The baseline model is defined as follows:\n",
    "1. If the word appeared previously in test dataset , assign the the most frequent label for that word in test dataset\n",
    "2. For new word assign the overall most frequent label"
   ]
  },
  {
   "cell_type": "code",
   "execution_count": 22,
   "metadata": {},
   "outputs": [
    {
     "name": "stdout",
     "output_type": "stream",
     "text": [
      "labels in the order of frequencies : ['OTHERS', 'NN', 'IN', 'VB', 'JJ', 'RB']\n"
     ]
    },
    {
     "data": {
      "text/plain": [
       "'OTHERS'"
      ]
     },
     "execution_count": 22,
     "metadata": {},
     "output_type": "execute_result"
    }
   ],
   "source": [
    "from collections import defaultdict\n",
    "\n",
    "# Overall most frequent label\n",
    "def overall_most_frequent_label(train_Y):\n",
    "  freq_dict = defaultdict(int)\n",
    "  for i in range(0, len(train_Y)):\n",
    "    for j in range(0, len(train_Y[i])):\n",
    "      freq_dict[train_Y[i][j]]+=1\n",
    "  frequency_sorted_list = sorted(freq_dict, key= lambda l: (-freq_dict[l], l))\n",
    "  print(f'labels in the order of frequencies : {frequency_sorted_list}')\n",
    "  return frequency_sorted_list[0]\n",
    "\n",
    "overall_most_frequent_label(train_Y)\n"
   ]
  },
  {
   "cell_type": "code",
   "execution_count": 11,
   "metadata": {},
   "outputs": [
    {
     "name": "stdout",
     "output_type": "stream",
     "text": [
      "20132\n"
     ]
    }
   ],
   "source": [
    "from collections import Counter\n",
    "\n",
    "# token wise most frequent label\n",
    "def tokenwise_most_frequent_label(train_X, train_Y):\n",
    "  freq_dict = defaultdict(list)\n",
    "  for i in range(0, len(train_X)):\n",
    "    for j in range(0, len(train_X[i])):\n",
    "      freq_dict[train_X[i][j]].append(train_Y[i][j])\n",
    "  tokenwise_frequent_label = defaultdict(int)\n",
    "  for key, values in freq_dict.items():\n",
    "    most_frequent_label = Counter(values).most_common(1)[0][0]\n",
    "    tokenwise_frequent_label[key] = most_frequent_label\n",
    "  return tokenwise_frequent_label\n",
    " \n",
    "\n",
    "tokenwise_frequent_labels = tokenwise_most_frequent_label(train_X, train_Y)\n",
    "print(len(tokenwise_frequent_labels))"
   ]
  },
  {
   "cell_type": "code",
   "execution_count": 17,
   "metadata": {},
   "outputs": [],
   "source": [
    "class BaseModel():\n",
    "    def __init__(self, overall_most_frequent_label, tokenwise_most_frequent_label):\n",
    "      self.find_overall_most_frequent_label = overall_most_frequent_label\n",
    "      self.find_tokenwise_most_frequent_label = tokenwise_most_frequent_label\n",
    "\n",
    "    def predict(self, input):\n",
    "      # input is a sentence -- a list of words/tokens\n",
    "      output = []\n",
    "      for word in input:\n",
    "        if(word in self.tokenwise_most_frequent_label.keys()):\n",
    "          output.append(self.tokenwise_most_frequent_label[word])\n",
    "        else:\n",
    "          output.append(self.overall_most_frequent_label)\n",
    "      return output\n",
    "\n",
    "    def train(self, train_X, train_Y):\n",
    "      self.overall_most_frequent_label = self.find_overall_most_frequent_label(train_Y)\n",
    "      self.tokenwise_most_frequent_label = self.find_tokenwise_most_frequent_label(train_X, train_Y)"
   ]
  },
  {
   "cell_type": "markdown",
   "metadata": {},
   "source": [
    "Evaluation metrics\n",
    "\n",
    "For this I have appended the ground truths for each sentencese into a list. Same for predicted outputs.\n",
    "Them calculate performance metrics on them."
   ]
  },
  {
   "cell_type": "code",
   "execution_count": 18,
   "metadata": {},
   "outputs": [],
   "source": [
    "from sklearn import metrics\n",
    "\n",
    "\n",
    "def evaluate_metrics(predicted_labels, ground_truth):\n",
    "  # accuracy\n",
    "  accuracy = metrics.accuracy_score(ground_truth, predicted_labels)\n",
    "  print(f'accuracy : {accuracy}')\n",
    "\n",
    "  # macroprecision\n",
    "  macro_precision = metrics.precision_score(ground_truth, predicted_labels, average = 'macro')\n",
    "  print(f'macro precision : {macro_precision}')\n",
    "\n",
    "  # macrorecall\n",
    "  macro_recall = metrics.recall_score(ground_truth, predicted_labels, average = 'macro')\n",
    "  print(f'macro recall : {macro_recall}')\n",
    "\n",
    "  # microprecision\n",
    "  micro_precision  = metrics.precision_score(ground_truth, predicted_labels, average = 'micro')\n",
    "  print(f'micro precision : {micro_precision}')\n",
    "\n",
    "  # microrecall.\n",
    "  micro_recall  = metrics.recall_score(ground_truth, predicted_labels, average = 'micro')\n",
    "  print(f'micro recall : {micro_recall}')"
   ]
  },
  {
   "cell_type": "code",
   "execution_count": 23,
   "metadata": {},
   "outputs": [
    {
     "name": "stdout",
     "output_type": "stream",
     "text": [
      "labels in the order of frequencies : ['OTHERS', 'NN', 'IN', 'VB', 'JJ', 'RB']\n"
     ]
    }
   ],
   "source": [
    "base_model = BaseModel(overall_most_frequent_label, tokenwise_most_frequent_label)\n",
    "base_model.train(train_X, train_Y)\n",
    "\n",
    "total_sentences = validation_dataset.num_rows\n",
    "validation_X = [row['tokens'] for row in validation_dataset]\n",
    "validation_Y = [row['xpos'] for row in validation_dataset]\n",
    "validation_Y = preprocess(validation_Y)\n",
    "\n",
    "prediction_Y = []\n",
    "for i in range(0, len(validation_X)):\n",
    "  prediction_Y.append(base_model.predict(validation_X[i]))"
   ]
  },
  {
   "cell_type": "code",
   "execution_count": 24,
   "metadata": {},
   "outputs": [
    {
     "name": "stdout",
     "output_type": "stream",
     "text": [
      "accuracy : 0.8603893555224115\n",
      "macro precision : 0.8775669633288364\n",
      "macro recall : 0.817050865808997\n",
      "micro precision : 0.8603893555224115\n",
      "micro recall : 0.8603893555224115\n"
     ]
    }
   ],
   "source": [
    "appended_prediction_labels = []\n",
    "for p in prediction_Y:\n",
    "  appended_prediction_labels+=p\n",
    "appended_ground_truth = []\n",
    "for g in validation_Y:\n",
    "  appended_ground_truth+=g\n",
    "evaluate_metrics(appended_prediction_labels, appended_ground_truth)"
   ]
  },
  {
   "cell_type": "markdown",
   "metadata": {},
   "source": [
    "Linear chain CRF model\n",
    "This is a simple implementation of a linear chain conditional random field model in Python.\n",
    "Two major components of the model is:\n",
    "1. Viterbi decoding - Used to optimally find the best tag sequence for given word sequence (features)\n",
    "2. Forward recurrence - Used to optimally compute log(Z-score)\n",
    "\n",
    "Both of these are very similar in the sense the use dynamic programming to compute the solution"
   ]
  },
  {
   "cell_type": "code",
   "execution_count": 26,
   "metadata": {},
   "outputs": [],
   "source": [
    "import torch\n",
    "import torch.nn as nn\n",
    "import math\n",
    "import torch.optim as optim\n",
    "\n",
    "class LinearChainCRF(nn.Module):\n",
    "    def __init__(self, num_tags, num_features):\n",
    "        super().__init__()\n",
    "        self.num_tags = num_tags\n",
    "         # Initialize weights\n",
    "        self.feature_weights = nn.Parameter(torch.randn(num_features))\n",
    "\n",
    "    def _featurize_word(self, curr_tag, prev_tag, base_feature):\n",
    "        feature = torch.zeros_like(base_feature)\n",
    "        feature += base_feature\n",
    "\n",
    "        # we are featurizing the word considering its tag as curr_tag and previous tags as prev_tag\n",
    "        feature[curr_tag] = 1\n",
    "        feature[self.num_tags + curr_tag * prev_tag] = 1\n",
    "        return feature\n",
    "\n",
    "    def _forward_alg(self, features):\n",
    "        # this function is used to compute the log of  z-score / denominator of p(y|x) / partition function for loss estimation\n",
    "        # using forward recurrance\n",
    "\n",
    "        num_tags = self.num_tags\n",
    "        alpha = torch.full((1, num_tags), fill_value=-10000)\n",
    "\n",
    "        # we didnot use a special bos tag here but instead considered it as OTHERS tag , its score is zero \n",
    "        # since it shouldnot influence the overall scores and be the base case / starting point of our sequence\n",
    "        # this is done by making other values higly negative, so that when we look for argmax or max scores \n",
    "        # this will be the result. Tried to use -math.inf but it was having adverse affect on scores\n",
    "\n",
    "        alpha[0][3] = 0  # 'OTHERS' tag index 3 as start\n",
    "\n",
    "        for i in range(1, len(features)):\n",
    "            alpha_m = []\n",
    "            for curr_tag in range(num_tags):\n",
    "                # calculating the possible scores for current word considering current tag and all possible previous tags\n",
    "                s_m = torch.stack([alpha[0][prev_tag] + torch.dot(self.feature_weights, self._featurize_word(curr_tag, prev_tag, features[i])) for prev_tag in range(num_tags)])\n",
    "                alpha_m.append(torch.logsumexp(s_m, dim=0).view(1))\n",
    "\n",
    "            # alpha_m to be used for next word\n",
    "            # its an optimized way - \n",
    "            # we are not storing all the alphas for each word with each tag but only alphas corresponding to previous word for all tags\n",
    "            # because thats essentaially the sum of all possible path scores ending at that word tag pair\n",
    "            # and the only thing needed as we move forward to next word.\n",
    "            alpha = torch.cat(alpha_m).view(1, -1)\n",
    "\n",
    "        return torch.logsumexp(alpha, dim=1)\n",
    "\n",
    "    def _score_sequence(self, features, tags):\n",
    "        # this function is used to compute the log of numerator of p(y|x) for estimating loss\n",
    "\n",
    "        score = torch.zeros(1)\n",
    "        for feature in features:\n",
    "            score += torch.dot(self.feature_weights, feature)\n",
    "        return score\n",
    "\n",
    "    def neg_log_likelihood_loss(self, features, tags):\n",
    "        # loss function for our model\n",
    "\n",
    "        denominator = self._forward_alg(features)\n",
    "        numerator = self._score_sequence(features, tags)\n",
    "        return -(numerator - denominator)\n",
    "\n",
    "    def _viterbi(self, features):\n",
    "        # this function estimates the best tag sequence for a sequence\n",
    "        # very similar to forward recurrence but here we store all the best previous tags (in back pointers) for a word tag pair to backtrack and find best tag sequence (through back tracking)\n",
    "        num_tags = self.num_tags\n",
    "\n",
    "        viterbi_vars = torch.full((1, num_tags), -10000)\n",
    "        # This is v1 as others are highly negative\n",
    "        viterbi_vars[0][3] = 0  # 'OTHERS' tag index 3 as start\n",
    "        # used to backtrack the best sequence\n",
    "        backpointers = []\n",
    "\n",
    "        for i in range(len(features)):\n",
    "            bptrs_t = []\n",
    "            viterbi_vars_t = []\n",
    "            for curr_tag in range(num_tags):\n",
    "                \n",
    "                # calculating the possible scores till the current word considering current tag and all possible previous tags\n",
    "                s_m = torch.stack([viterbi_vars[0][prev_tag] + torch.dot(self.feature_weights, self._featurize_word(curr_tag, prev_tag, features[i])) for prev_tag in range(num_tags)])\n",
    "\n",
    "                # maximum score and the best previous tag for the current tag\n",
    "                # bm, vm according to algorithm 11 - eisensteins notes\n",
    "                best_tag_id = torch.argmax(s_m).item()\n",
    "                best_tag_score = torch.max(s_m)\n",
    "\n",
    "                # for backtracking\n",
    "                bptrs_t.append(best_tag_id)\n",
    "                viterbi_vars_t.append(best_tag_score.view(1))\n",
    "\n",
    "            # viterbi variables for the current word\n",
    "            viterbi_vars = torch.cat(viterbi_vars_t).view(1, -1)\n",
    "            backpointers.append(bptrs_t)\n",
    "\n",
    "        # Trace back the best path\n",
    "        best_path = [torch.argmax(viterbi_vars).item()]\n",
    "        for bptrs_t in reversed(backpointers):\n",
    "            best_path.append(bptrs_t[best_path[-1]])\n",
    "\n",
    "        best_path.reverse()\n",
    "        return best_path[1:]  # Skip the starting 'OTHERS' tag\n",
    "\n",
    "    def decode(self, features):\n",
    "        return self._viterbi(features)"
   ]
  },
  {
   "cell_type": "code",
   "execution_count": 33,
   "metadata": {},
   "outputs": [],
   "source": [
    "def train(model, features, labels, epochs=10, learning_rate=0.01):\n",
    "    optimizer = optim.SGD(model.parameters(), lr=learning_rate)\n",
    "\n",
    "    for epoch in range(epochs):\n",
    "        for i, (feature, label) in enumerate(zip(features, labels)):\n",
    "            model.zero_grad()\n",
    "            feature = torch.tensor(feature, dtype=torch.float32)\n",
    "            label = torch.tensor(label)\n",
    "            loss = model.neg_log_likelihood_loss(feature, label)\n",
    "            loss.backward()\n",
    "            optimizer.step()\n",
    "\n",
    "        print(f'Epoch {epoch+1}: Loss = {loss.item()}')"
   ]
  },
  {
   "cell_type": "code",
   "execution_count": 27,
   "metadata": {},
   "outputs": [],
   "source": [
    "def train(model, features, labels, epochs=10, learning_rate=0.01):\n",
    "    optimizer = optim.SGD(model.parameters(), lr=learning_rate)\n",
    "\n",
    "    for epoch in range(epochs):\n",
    "        total_loss = 0\n",
    "        for i, (feature, label) in enumerate(zip(features, labels)):\n",
    "            # Reset gradients for each batch - in this case for each sentence\n",
    "            model.zero_grad()  \n",
    "            feature_tensor = torch.tensor(feature, dtype=torch.float32)\n",
    "            label_tensor = torch.tensor(label, dtype=torch.long)\n",
    "            loss = model.neg_log_likelihood_loss(feature_tensor, label_tensor)\n",
    "            total_loss += loss.item()\n",
    "            loss.backward()\n",
    "            # Update model parameters  \n",
    "            optimizer.step()  \n",
    "\n",
    "        average_loss = total_loss / len(labels)\n",
    "        print(f\"Epoch {epoch+1}: Average loss = {average_loss}\")"
   ]
  },
  {
   "cell_type": "code",
   "execution_count": 28,
   "metadata": {},
   "outputs": [
    {
     "name": "stdout",
     "output_type": "stream",
     "text": [
      "Epoch 1: Average loss = 19.246506974697112\n",
      "Epoch 2: Average loss = -32.66696103334427\n",
      "Epoch 3: Average loss = -65.9540945839882\n",
      "Epoch 4: Average loss = -95.06311148166657\n",
      "Epoch 5: Average loss = -122.72813519001006\n",
      "Epoch 6: Average loss = -149.76245324850083\n",
      "Epoch 7: Average loss = -176.47458614349364\n",
      "Epoch 8: Average loss = -202.99815746068955\n",
      "Epoch 9: Average loss = -229.39877597332\n",
      "Epoch 10: Average loss = -255.71189512014388\n"
     ]
    }
   ],
   "source": [
    "# Train\n",
    "\n",
    "num_tags = 6\n",
    "num_features = 42\n",
    "model = LinearChainCRF(num_tags, num_features)\n",
    "\n",
    "train(model,featurized_train_X[:100], indexed_train_Y[:100], epochs = 10)"
   ]
  },
  {
   "cell_type": "code",
   "execution_count": 29,
   "metadata": {},
   "outputs": [
    {
     "name": "stdout",
     "output_type": "stream",
     "text": [
      "accuracy : 0.6780359525865453\n",
      "macro precision : 0.6749695130037922\n",
      "macro recall : 0.7298550060360395\n",
      "micro precision : 0.6780359525865453\n",
      "micro recall : 0.6780359525865453\n"
     ]
    }
   ],
   "source": [
    "# evaluation on validation split\n",
    "\n",
    "total_sentences = validation_dataset.num_rows\n",
    "validation_X = [row['tokens'] for row in validation_dataset]\n",
    "validation_Y = [row['xpos'] for row in validation_dataset]\n",
    "validation_Y = preprocess(validation_Y)\n",
    "featurized_validation_X = featurize_dataset(validation_X, validation_Y)\n",
    "indexed_validation_Y = index_labels(validation_Y)\n",
    "\n",
    "appended_prediction_labels = []\n",
    "for p in featurized_validation_X:\n",
    "  appended_prediction_labels+=model.decode(torch.Tensor(p))\n",
    "appended_ground_truth = []\n",
    "for g in indexed_validation_Y:\n",
    "  appended_ground_truth+=g\n",
    "evaluate_metrics(appended_prediction_labels, appended_ground_truth)"
   ]
  },
  {
   "cell_type": "code",
   "execution_count": 30,
   "metadata": {},
   "outputs": [
    {
     "name": "stdout",
     "output_type": "stream",
     "text": [
      "accuracy : 0.6767863462975343\n",
      "macro precision : 0.6709451551784911\n",
      "macro recall : 0.728455310109875\n",
      "micro precision : 0.6767863462975343\n",
      "micro recall : 0.6767863462975343\n"
     ]
    }
   ],
   "source": [
    "# evaluation on test split\n",
    "\n",
    "# evaluation on validation split\n",
    "\n",
    "total_sentences = test_dataset.num_rows\n",
    "test_X = [row['tokens'] for row in test_dataset]\n",
    "test_Y = [row['xpos'] for row in test_dataset]\n",
    "test_Y = preprocess(test_Y)\n",
    "featurized_test_X = featurize_dataset(test_X, test_Y)\n",
    "indexed_test_Y = index_labels(test_Y)\n",
    "\n",
    "appended_prediction_labels = []\n",
    "for p in featurized_test_X:\n",
    "  appended_prediction_labels+=model.decode(torch.Tensor(p))\n",
    "appended_ground_truth = []\n",
    "for g in indexed_test_Y:\n",
    "  appended_ground_truth+=g\n",
    "evaluate_metrics(appended_prediction_labels, appended_ground_truth)"
   ]
  },
  {
   "cell_type": "code",
   "execution_count": 33,
   "metadata": {},
   "outputs": [],
   "source": [
    "def pos_tagger(model, sentence, tags):\n",
    "  featurized_sentence = featurize_sentence(sentence, tags)\n",
    "  predicted_labels = model.decode(torch.Tensor(featurized_sentence))\n",
    "  predicted_tags = [total_pos[i] for i in predicted_labels]\n",
    "  return predicted_tags\n"
   ]
  },
  {
   "cell_type": "code",
   "execution_count": 34,
   "metadata": {},
   "outputs": [
    {
     "name": "stdout",
     "output_type": "stream",
     "text": [
      "word: Blooming original: VB, predicted: VB\n",
      "word: onion original: NN, predicted: NN\n",
      "word: , original: OTHERS, predicted: OTHERS\n",
      "word: the original: OTHERS, predicted: VB\n",
      "word: only original: JJ, predicted: JJ\n",
      "word: reason original: NN, predicted: NN\n",
      "word: to original: OTHERS, predicted: RB\n",
      "word: visit original: VB, predicted: VB\n",
      "word: this original: OTHERS, predicted: OTHERS\n",
      "word: restaurant original: NN, predicted: OTHERS\n",
      "word: . original: OTHERS, predicted: OTHERS\n"
     ]
    }
   ],
   "source": [
    "# find tag for a sentence\n",
    "import random\n",
    "\n",
    "i = random.randint(0, len(validation_X)-1)\n",
    "tags = pos_tagger(model, validation_X[i], validation_Y[i])\n",
    "\n",
    "for j in range(len(tags)):\n",
    "  print(f'word: {validation_X[i][j]} original: {validation_Y[i][j]}, predicted: {tags[j]}')"
   ]
  },
  {
   "cell_type": "code",
   "execution_count": null,
   "metadata": {},
   "outputs": [],
   "source": []
  }
 ],
 "metadata": {
  "kernelspec": {
   "display_name": "base",
   "language": "python",
   "name": "python3"
  },
  "language_info": {
   "codemirror_mode": {
    "name": "ipython",
    "version": 3
   },
   "file_extension": ".py",
   "mimetype": "text/x-python",
   "name": "python",
   "nbconvert_exporter": "python",
   "pygments_lexer": "ipython3",
   "version": "3.11.4"
  }
 },
 "nbformat": 4,
 "nbformat_minor": 2
}
